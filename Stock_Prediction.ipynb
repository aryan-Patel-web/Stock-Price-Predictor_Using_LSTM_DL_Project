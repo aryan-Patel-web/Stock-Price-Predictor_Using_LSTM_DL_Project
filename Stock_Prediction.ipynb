{
 "cells": [
  {
   "cell_type": "markdown",
   "id": "2ae590b3",
   "metadata": {},
   "source": [
    "# Stock Price Prediction Project using Deep leaning"
   ]
  },
  {
   "cell_type": "code",
   "execution_count": 30,
   "id": "121865ef",
   "metadata": {},
   "outputs": [],
   "source": [
    "import pandas as pd\n",
    "import numpy as np\n",
    "import matplotlib.pyplot as plt\n",
    "%matplotlib inline"
   ]
  },
  {
   "cell_type": "code",
   "execution_count": 2,
   "id": "13cc05a7",
   "metadata": {},
   "outputs": [],
   "source": [
    "from sklearn.preprocessing import MinMaxScaler\n",
    "from keras.models import Sequential\n",
    "from keras.layers import LSTM, Dense"
   ]
  },
  {
   "cell_type": "code",
   "execution_count": 3,
   "id": "c3e6a76a",
   "metadata": {},
   "outputs": [],
   "source": [
    "from matplotlib.pylab import rcParams\n",
    "rcParams['figure.figsize'] = 20, 10"
   ]
  },
  {
   "cell_type": "code",
   "execution_count": 4,
   "id": "a2c91b75",
   "metadata": {},
   "outputs": [
    {
     "data": {
      "text/html": [
       "<div>\n",
       "<style scoped>\n",
       "    .dataframe tbody tr th:only-of-type {\n",
       "        vertical-align: middle;\n",
       "    }\n",
       "\n",
       "    .dataframe tbody tr th {\n",
       "        vertical-align: top;\n",
       "    }\n",
       "\n",
       "    .dataframe thead th {\n",
       "        text-align: right;\n",
       "    }\n",
       "</style>\n",
       "<table border=\"1\" class=\"dataframe\">\n",
       "  <thead>\n",
       "    <tr style=\"text-align: right;\">\n",
       "      <th></th>\n",
       "      <th>Date</th>\n",
       "      <th>Open</th>\n",
       "      <th>High</th>\n",
       "      <th>Low</th>\n",
       "      <th>Last</th>\n",
       "      <th>Close</th>\n",
       "      <th>Total Trade Quantity</th>\n",
       "      <th>Turnover (Lacs)</th>\n",
       "    </tr>\n",
       "  </thead>\n",
       "  <tbody>\n",
       "    <tr>\n",
       "      <th>0</th>\n",
       "      <td>2018-10-08</td>\n",
       "      <td>208.00</td>\n",
       "      <td>222.25</td>\n",
       "      <td>206.85</td>\n",
       "      <td>216.00</td>\n",
       "      <td>215.15</td>\n",
       "      <td>4642146.0</td>\n",
       "      <td>10062.83</td>\n",
       "    </tr>\n",
       "    <tr>\n",
       "      <th>1</th>\n",
       "      <td>2018-10-05</td>\n",
       "      <td>217.00</td>\n",
       "      <td>218.60</td>\n",
       "      <td>205.90</td>\n",
       "      <td>210.25</td>\n",
       "      <td>209.20</td>\n",
       "      <td>3519515.0</td>\n",
       "      <td>7407.06</td>\n",
       "    </tr>\n",
       "    <tr>\n",
       "      <th>2</th>\n",
       "      <td>2018-10-04</td>\n",
       "      <td>223.50</td>\n",
       "      <td>227.80</td>\n",
       "      <td>216.15</td>\n",
       "      <td>217.25</td>\n",
       "      <td>218.20</td>\n",
       "      <td>1728786.0</td>\n",
       "      <td>3815.79</td>\n",
       "    </tr>\n",
       "    <tr>\n",
       "      <th>3</th>\n",
       "      <td>2018-10-03</td>\n",
       "      <td>230.00</td>\n",
       "      <td>237.50</td>\n",
       "      <td>225.75</td>\n",
       "      <td>226.45</td>\n",
       "      <td>227.60</td>\n",
       "      <td>1708590.0</td>\n",
       "      <td>3960.27</td>\n",
       "    </tr>\n",
       "    <tr>\n",
       "      <th>4</th>\n",
       "      <td>2018-10-01</td>\n",
       "      <td>234.55</td>\n",
       "      <td>234.60</td>\n",
       "      <td>221.05</td>\n",
       "      <td>230.30</td>\n",
       "      <td>230.90</td>\n",
       "      <td>1534749.0</td>\n",
       "      <td>3486.05</td>\n",
       "    </tr>\n",
       "  </tbody>\n",
       "</table>\n",
       "</div>"
      ],
      "text/plain": [
       "         Date    Open    High     Low    Last   Close  Total Trade Quantity  \\\n",
       "0  2018-10-08  208.00  222.25  206.85  216.00  215.15             4642146.0   \n",
       "1  2018-10-05  217.00  218.60  205.90  210.25  209.20             3519515.0   \n",
       "2  2018-10-04  223.50  227.80  216.15  217.25  218.20             1728786.0   \n",
       "3  2018-10-03  230.00  237.50  225.75  226.45  227.60             1708590.0   \n",
       "4  2018-10-01  234.55  234.60  221.05  230.30  230.90             1534749.0   \n",
       "\n",
       "   Turnover (Lacs)  \n",
       "0         10062.83  \n",
       "1          7407.06  \n",
       "2          3815.79  \n",
       "3          3960.27  \n",
       "4          3486.05  "
      ]
     },
     "execution_count": 4,
     "metadata": {},
     "output_type": "execute_result"
    }
   ],
   "source": [
    "df = pd.read_csv(\"NSE-Tata-Global-Beverages-Limited.csv\")\n",
    "\n",
    "df.head()"
   ]
  },
  {
   "cell_type": "code",
   "execution_count": 5,
   "id": "61df9b06",
   "metadata": {},
   "outputs": [],
   "source": [
    "df[\"Date\"] = pd.to_datetime(df[\"Date\"], format=\"%Y-%m-%d\")\n"
   ]
  },
  {
   "cell_type": "code",
   "execution_count": 6,
   "id": "eaee584a",
   "metadata": {},
   "outputs": [
    {
     "data": {
      "text/plain": [
       "DatetimeIndex(['2018-10-08', '2018-10-05', '2018-10-04', '2018-10-03',\n",
       "               '2018-10-01', '2018-09-28', '2018-09-27', '2018-09-26',\n",
       "               '2018-09-25', '2018-09-24',\n",
       "               ...\n",
       "               '2013-10-22', '2013-10-21', '2013-10-18', '2013-10-17',\n",
       "               '2013-10-15', '2013-10-14', '2013-10-11', '2013-10-10',\n",
       "               '2013-10-09', '2013-10-08'],\n",
       "              dtype='datetime64[ns]', name='Date', length=1235, freq=None)"
      ]
     },
     "execution_count": 6,
     "metadata": {},
     "output_type": "execute_result"
    }
   ],
   "source": [
    "df.index = df[\"Date\"]\n",
    "\n",
    "df.index"
   ]
  },
  {
   "cell_type": "code",
   "execution_count": 7,
   "id": "63bae162",
   "metadata": {},
   "outputs": [
    {
     "data": {
      "text/html": [
       "<div>\n",
       "<style scoped>\n",
       "    .dataframe tbody tr th:only-of-type {\n",
       "        vertical-align: middle;\n",
       "    }\n",
       "\n",
       "    .dataframe tbody tr th {\n",
       "        vertical-align: top;\n",
       "    }\n",
       "\n",
       "    .dataframe thead th {\n",
       "        text-align: right;\n",
       "    }\n",
       "</style>\n",
       "<table border=\"1\" class=\"dataframe\">\n",
       "  <thead>\n",
       "    <tr style=\"text-align: right;\">\n",
       "      <th></th>\n",
       "      <th>Date</th>\n",
       "      <th>Open</th>\n",
       "      <th>High</th>\n",
       "      <th>Low</th>\n",
       "      <th>Last</th>\n",
       "      <th>Close</th>\n",
       "      <th>Total Trade Quantity</th>\n",
       "      <th>Turnover (Lacs)</th>\n",
       "    </tr>\n",
       "    <tr>\n",
       "      <th>Date</th>\n",
       "      <th></th>\n",
       "      <th></th>\n",
       "      <th></th>\n",
       "      <th></th>\n",
       "      <th></th>\n",
       "      <th></th>\n",
       "      <th></th>\n",
       "      <th></th>\n",
       "    </tr>\n",
       "  </thead>\n",
       "  <tbody>\n",
       "    <tr>\n",
       "      <th>2018-10-08</th>\n",
       "      <td>2018-10-08</td>\n",
       "      <td>208.00</td>\n",
       "      <td>222.25</td>\n",
       "      <td>206.85</td>\n",
       "      <td>216.00</td>\n",
       "      <td>215.15</td>\n",
       "      <td>4642146.0</td>\n",
       "      <td>10062.83</td>\n",
       "    </tr>\n",
       "    <tr>\n",
       "      <th>2018-10-05</th>\n",
       "      <td>2018-10-05</td>\n",
       "      <td>217.00</td>\n",
       "      <td>218.60</td>\n",
       "      <td>205.90</td>\n",
       "      <td>210.25</td>\n",
       "      <td>209.20</td>\n",
       "      <td>3519515.0</td>\n",
       "      <td>7407.06</td>\n",
       "    </tr>\n",
       "    <tr>\n",
       "      <th>2018-10-04</th>\n",
       "      <td>2018-10-04</td>\n",
       "      <td>223.50</td>\n",
       "      <td>227.80</td>\n",
       "      <td>216.15</td>\n",
       "      <td>217.25</td>\n",
       "      <td>218.20</td>\n",
       "      <td>1728786.0</td>\n",
       "      <td>3815.79</td>\n",
       "    </tr>\n",
       "    <tr>\n",
       "      <th>2018-10-03</th>\n",
       "      <td>2018-10-03</td>\n",
       "      <td>230.00</td>\n",
       "      <td>237.50</td>\n",
       "      <td>225.75</td>\n",
       "      <td>226.45</td>\n",
       "      <td>227.60</td>\n",
       "      <td>1708590.0</td>\n",
       "      <td>3960.27</td>\n",
       "    </tr>\n",
       "    <tr>\n",
       "      <th>2018-10-01</th>\n",
       "      <td>2018-10-01</td>\n",
       "      <td>234.55</td>\n",
       "      <td>234.60</td>\n",
       "      <td>221.05</td>\n",
       "      <td>230.30</td>\n",
       "      <td>230.90</td>\n",
       "      <td>1534749.0</td>\n",
       "      <td>3486.05</td>\n",
       "    </tr>\n",
       "  </tbody>\n",
       "</table>\n",
       "</div>"
      ],
      "text/plain": [
       "                 Date    Open    High     Low    Last   Close  \\\n",
       "Date                                                            \n",
       "2018-10-08 2018-10-08  208.00  222.25  206.85  216.00  215.15   \n",
       "2018-10-05 2018-10-05  217.00  218.60  205.90  210.25  209.20   \n",
       "2018-10-04 2018-10-04  223.50  227.80  216.15  217.25  218.20   \n",
       "2018-10-03 2018-10-03  230.00  237.50  225.75  226.45  227.60   \n",
       "2018-10-01 2018-10-01  234.55  234.60  221.05  230.30  230.90   \n",
       "\n",
       "            Total Trade Quantity  Turnover (Lacs)  \n",
       "Date                                               \n",
       "2018-10-08             4642146.0         10062.83  \n",
       "2018-10-05             3519515.0          7407.06  \n",
       "2018-10-04             1728786.0          3815.79  \n",
       "2018-10-03             1708590.0          3960.27  \n",
       "2018-10-01             1534749.0          3486.05  "
      ]
     },
     "execution_count": 7,
     "metadata": {},
     "output_type": "execute_result"
    }
   ],
   "source": [
    "df.head()"
   ]
  },
  {
   "cell_type": "code",
   "execution_count": 8,
   "id": "469a7fcf",
   "metadata": {},
   "outputs": [
    {
     "data": {
      "text/plain": [
       "Index(['Date', 'Open', 'High', 'Low', 'Last', 'Close', 'Total Trade Quantity',\n",
       "       'Turnover (Lacs)'],\n",
       "      dtype='object')"
      ]
     },
     "execution_count": 8,
     "metadata": {},
     "output_type": "execute_result"
    }
   ],
   "source": [
    "df.columns"
   ]
  },
  {
   "cell_type": "markdown",
   "id": "18e66ea9",
   "metadata": {},
   "source": [
    "# Visualize close price history"
   ]
  },
  {
   "cell_type": "code",
   "execution_count": 9,
   "id": "5197b834",
   "metadata": {},
   "outputs": [
    {
     "data": {
      "text/plain": [
       "<matplotlib.legend.Legend at 0x29f61412a20>"
      ]
     },
     "execution_count": 9,
     "metadata": {},
     "output_type": "execute_result"
    },
    {
     "data": {
      "image/png": "[encoded data removed]",
      "text/plain": [
       "<Figure size 2000x1000 with 1 Axes>"
      ]
     },
     "metadata": {},
     "output_type": "display_data"
    }
   ],
   "source": [
    "\n",
    "plt.plot(df[\"Close\"], label='Close Price history')\n",
    "plt.title(\"TATA Stock Closing Price\")\n",
    "plt.xlabel(\"Date\")\n",
    "plt.ylabel(\"Price\")\n",
    "plt.legend()"
   ]
  },
  {
   "cell_type": "code",
   "execution_count": 10,
   "id": "cd35fa94",
   "metadata": {},
   "outputs": [
    {
     "data": {
      "text/plain": [
       "<matplotlib.legend.Legend at 0x29f614a26c0>"
      ]
     },
     "execution_count": 10,
     "metadata": {},
     "output_type": "execute_result"
    },
    {
     "data": {
      "image/png": "[encoded data removed]",
      "text/plain": [
       "<Figure size 2000x1000 with 1 Axes>"
      ]
     },
     "metadata": {},
     "output_type": "display_data"
    }
   ],
   "source": [
    "\n",
    "plt.plot(df[\"Turnover (Lacs)\"], label='Turnover in Lakhs')\n",
    "plt.title(\"Turnover in Lakhs \")\n",
    "plt.xlabel(\"Date\")\n",
    "plt.ylabel(\"Price\")\n",
    "plt.legend()"
   ]
  },
  {
   "cell_type": "markdown",
   "id": "7eac9973",
   "metadata": {},
   "source": [
    "#  Prepare Data for LSTM"
   ]
  },
  {
   "cell_type": "code",
   "execution_count": 11,
   "id": "45966162",
   "metadata": {},
   "outputs": [
    {
     "data": {
      "text/html": [
       "<div>\n",
       "<style scoped>\n",
       "    .dataframe tbody tr th:only-of-type {\n",
       "        vertical-align: middle;\n",
       "    }\n",
       "\n",
       "    .dataframe tbody tr th {\n",
       "        vertical-align: top;\n",
       "    }\n",
       "\n",
       "    .dataframe thead th {\n",
       "        text-align: right;\n",
       "    }\n",
       "</style>\n",
       "<table border=\"1\" class=\"dataframe\">\n",
       "  <thead>\n",
       "    <tr style=\"text-align: right;\">\n",
       "      <th></th>\n",
       "      <th>Date</th>\n",
       "      <th>Open</th>\n",
       "      <th>High</th>\n",
       "      <th>Low</th>\n",
       "      <th>Last</th>\n",
       "      <th>Close</th>\n",
       "      <th>Total Trade Quantity</th>\n",
       "      <th>Turnover (Lacs)</th>\n",
       "    </tr>\n",
       "    <tr>\n",
       "      <th>Date</th>\n",
       "      <th></th>\n",
       "      <th></th>\n",
       "      <th></th>\n",
       "      <th></th>\n",
       "      <th></th>\n",
       "      <th></th>\n",
       "      <th></th>\n",
       "      <th></th>\n",
       "    </tr>\n",
       "  </thead>\n",
       "  <tbody>\n",
       "    <tr>\n",
       "      <th>2013-10-08</th>\n",
       "      <td>2013-10-08</td>\n",
       "      <td>157.00</td>\n",
       "      <td>157.80</td>\n",
       "      <td>155.20</td>\n",
       "      <td>155.80</td>\n",
       "      <td>155.80</td>\n",
       "      <td>1720413.0</td>\n",
       "      <td>2688.94</td>\n",
       "    </tr>\n",
       "    <tr>\n",
       "      <th>2013-10-09</th>\n",
       "      <td>2013-10-09</td>\n",
       "      <td>155.70</td>\n",
       "      <td>158.20</td>\n",
       "      <td>154.15</td>\n",
       "      <td>155.30</td>\n",
       "      <td>155.55</td>\n",
       "      <td>2049580.0</td>\n",
       "      <td>3204.49</td>\n",
       "    </tr>\n",
       "    <tr>\n",
       "      <th>2013-10-10</th>\n",
       "      <td>2013-10-10</td>\n",
       "      <td>156.00</td>\n",
       "      <td>160.80</td>\n",
       "      <td>155.85</td>\n",
       "      <td>160.30</td>\n",
       "      <td>160.15</td>\n",
       "      <td>3124853.0</td>\n",
       "      <td>4978.80</td>\n",
       "    </tr>\n",
       "    <tr>\n",
       "      <th>2013-10-11</th>\n",
       "      <td>2013-10-11</td>\n",
       "      <td>161.15</td>\n",
       "      <td>163.45</td>\n",
       "      <td>159.00</td>\n",
       "      <td>159.80</td>\n",
       "      <td>160.05</td>\n",
       "      <td>1880046.0</td>\n",
       "      <td>3030.76</td>\n",
       "    </tr>\n",
       "    <tr>\n",
       "      <th>2013-10-14</th>\n",
       "      <td>2013-10-14</td>\n",
       "      <td>160.85</td>\n",
       "      <td>161.45</td>\n",
       "      <td>157.70</td>\n",
       "      <td>159.30</td>\n",
       "      <td>159.45</td>\n",
       "      <td>1281419.0</td>\n",
       "      <td>2039.09</td>\n",
       "    </tr>\n",
       "    <tr>\n",
       "      <th>...</th>\n",
       "      <td>...</td>\n",
       "      <td>...</td>\n",
       "      <td>...</td>\n",
       "      <td>...</td>\n",
       "      <td>...</td>\n",
       "      <td>...</td>\n",
       "      <td>...</td>\n",
       "      <td>...</td>\n",
       "    </tr>\n",
       "    <tr>\n",
       "      <th>2018-10-01</th>\n",
       "      <td>2018-10-01</td>\n",
       "      <td>234.55</td>\n",
       "      <td>234.60</td>\n",
       "      <td>221.05</td>\n",
       "      <td>230.30</td>\n",
       "      <td>230.90</td>\n",
       "      <td>1534749.0</td>\n",
       "      <td>3486.05</td>\n",
       "    </tr>\n",
       "    <tr>\n",
       "      <th>2018-10-03</th>\n",
       "      <td>2018-10-03</td>\n",
       "      <td>230.00</td>\n",
       "      <td>237.50</td>\n",
       "      <td>225.75</td>\n",
       "      <td>226.45</td>\n",
       "      <td>227.60</td>\n",
       "      <td>1708590.0</td>\n",
       "      <td>3960.27</td>\n",
       "    </tr>\n",
       "    <tr>\n",
       "      <th>2018-10-04</th>\n",
       "      <td>2018-10-04</td>\n",
       "      <td>223.50</td>\n",
       "      <td>227.80</td>\n",
       "      <td>216.15</td>\n",
       "      <td>217.25</td>\n",
       "      <td>218.20</td>\n",
       "      <td>1728786.0</td>\n",
       "      <td>3815.79</td>\n",
       "    </tr>\n",
       "    <tr>\n",
       "      <th>2018-10-05</th>\n",
       "      <td>2018-10-05</td>\n",
       "      <td>217.00</td>\n",
       "      <td>218.60</td>\n",
       "      <td>205.90</td>\n",
       "      <td>210.25</td>\n",
       "      <td>209.20</td>\n",
       "      <td>3519515.0</td>\n",
       "      <td>7407.06</td>\n",
       "    </tr>\n",
       "    <tr>\n",
       "      <th>2018-10-08</th>\n",
       "      <td>2018-10-08</td>\n",
       "      <td>208.00</td>\n",
       "      <td>222.25</td>\n",
       "      <td>206.85</td>\n",
       "      <td>216.00</td>\n",
       "      <td>215.15</td>\n",
       "      <td>4642146.0</td>\n",
       "      <td>10062.83</td>\n",
       "    </tr>\n",
       "  </tbody>\n",
       "</table>\n",
       "<p>1235 rows × 8 columns</p>\n",
       "</div>"
      ],
      "text/plain": [
       "                 Date    Open    High     Low    Last   Close  \\\n",
       "Date                                                            \n",
       "2013-10-08 2013-10-08  157.00  157.80  155.20  155.80  155.80   \n",
       "2013-10-09 2013-10-09  155.70  158.20  154.15  155.30  155.55   \n",
       "2013-10-10 2013-10-10  156.00  160.80  155.85  160.30  160.15   \n",
       "2013-10-11 2013-10-11  161.15  163.45  159.00  159.80  160.05   \n",
       "2013-10-14 2013-10-14  160.85  161.45  157.70  159.30  159.45   \n",
       "...               ...     ...     ...     ...     ...     ...   \n",
       "2018-10-01 2018-10-01  234.55  234.60  221.05  230.30  230.90   \n",
       "2018-10-03 2018-10-03  230.00  237.50  225.75  226.45  227.60   \n",
       "2018-10-04 2018-10-04  223.50  227.80  216.15  217.25  218.20   \n",
       "2018-10-05 2018-10-05  217.00  218.60  205.90  210.25  209.20   \n",
       "2018-10-08 2018-10-08  208.00  222.25  206.85  216.00  215.15   \n",
       "\n",
       "            Total Trade Quantity  Turnover (Lacs)  \n",
       "Date                                               \n",
       "2013-10-08             1720413.0          2688.94  \n",
       "2013-10-09             2049580.0          3204.49  \n",
       "2013-10-10             3124853.0          4978.80  \n",
       "2013-10-11             1880046.0          3030.76  \n",
       "2013-10-14             1281419.0          2039.09  \n",
       "...                          ...              ...  \n",
       "2018-10-01             1534749.0          3486.05  \n",
       "2018-10-03             1708590.0          3960.27  \n",
       "2018-10-04             1728786.0          3815.79  \n",
       "2018-10-05             3519515.0          7407.06  \n",
       "2018-10-08             4642146.0         10062.83  \n",
       "\n",
       "[1235 rows x 8 columns]"
      ]
     },
     "execution_count": 11,
     "metadata": {},
     "output_type": "execute_result"
    }
   ],
   "source": [
    "data = df.sort_index(ascending=True, axis=0)\n",
    "data"
   ]
  },
  {
   "cell_type": "code",
   "execution_count": 12,
   "id": "69af6e60",
   "metadata": {},
   "outputs": [
    {
     "name": "stderr",
     "output_type": "stream",
     "text": [
      "C:\\Users\\aryan\\AppData\\Local\\Temp\\ipykernel_33416\\3411848199.py:6: FutureWarning: Series.__getitem__ treating keys as positions is deprecated. In a future version, integer keys will always be treated as labels (consistent with DataFrame behavior). To access a value by position, use `ser.iloc[pos]`\n",
      "  new_dataset[\"Date\"][i] = data[\"Date\"][i]\n",
      "C:\\Users\\aryan\\AppData\\Local\\Temp\\ipykernel_33416\\3411848199.py:6: FutureWarning: ChainedAssignmentError: behaviour will change in pandas 3.0!\n",
      "You are setting values through chained assignment. Currently this works in certain cases, but when using Copy-on-Write (which will become the default behaviour in pandas 3.0) this will never work to update the original DataFrame or Series, because the intermediate object on which we are setting values will behave as a copy.\n",
      "A typical example is when you are setting values in a column of a DataFrame, like:\n",
      "\n",
      "df[\"col\"][row_indexer] = value\n",
      "\n",
      "Use `df.loc[row_indexer, \"col\"] = values` instead, to perform the assignment in a single step and ensure this keeps updating the original `df`.\n",
      "\n",
      "See the caveats in the documentation: https://pandas.pydata.org/pandas-docs/stable/user_guide/indexing.html#returning-a-view-versus-a-copy\n",
      "\n",
      "  new_dataset[\"Date\"][i] = data[\"Date\"][i]\n",
      "C:\\Users\\aryan\\AppData\\Local\\Temp\\ipykernel_33416\\3411848199.py:7: FutureWarning: Series.__getitem__ treating keys as positions is deprecated. In a future version, integer keys will always be treated as labels (consistent with DataFrame behavior). To access a value by position, use `ser.iloc[pos]`\n",
      "  new_dataset[\"Close\"][i] = data[\"Close\"][i]\n",
      "C:\\Users\\aryan\\AppData\\Local\\Temp\\ipykernel_33416\\3411848199.py:7: FutureWarning: ChainedAssignmentError: behaviour will change in pandas 3.0!\n",
      "You are setting values through chained assignment. Currently this works in certain cases, but when using Copy-on-Write (which will become the default behaviour in pandas 3.0) this will never work to update the original DataFrame or Series, because the intermediate object on which we are setting values will behave as a copy.\n",
      "A typical example is when you are setting values in a column of a DataFrame, like:\n",
      "\n",
      "df[\"col\"][row_indexer] = value\n",
      "\n",
      "Use `df.loc[row_indexer, \"col\"] = values` instead, to perform the assignment in a single step and ensure this keeps updating the original `df`.\n",
      "\n",
      "See the caveats in the documentation: https://pandas.pydata.org/pandas-docs/stable/user_guide/indexing.html#returning-a-view-versus-a-copy\n",
      "\n",
      "  new_dataset[\"Close\"][i] = data[\"Close\"][i]\n",
      "C:\\Users\\aryan\\AppData\\Roaming\\Python\\Python312\\site-packages\\pandas\\core\\indexes\\base.py:7659: FutureWarning: Dtype inference on a pandas object (Series, Index, ExtensionArray) is deprecated. The Index constructor will keep the original dtype in the future. Call `infer_objects` on the result to get the old behavior.\n",
      "  return Index(index_like, name=name, copy=copy)\n"
     ]
    }
   ],
   "source": [
    "# Sort data and create new dataframe with Date and Close only\n",
    "data = df.sort_index(ascending=True, axis=0)\n",
    "new_dataset = pd.DataFrame(index=range(0, len(data)), columns=['Date', 'Close'])\n",
    "\n",
    "for i in range(0, len(data)):\n",
    "    new_dataset[\"Date\"][i] = data[\"Date\"][i]\n",
    "    new_dataset[\"Close\"][i] = data[\"Close\"][i]\n",
    "\n",
    "# Set index and drop 'Date' for training\n",
    "new_dataset.index = new_dataset[\"Date\"]\n",
    "new_dataset.drop(\"Date\", axis=1, inplace=True)\n"
   ]
  },
  {
   "cell_type": "code",
   "execution_count": 13,
   "id": "582cfd81",
   "metadata": {},
   "outputs": [
    {
     "data": {
      "text/html": [
       "<div>\n",
       "<style scoped>\n",
       "    .dataframe tbody tr th:only-of-type {\n",
       "        vertical-align: middle;\n",
       "    }\n",
       "\n",
       "    .dataframe tbody tr th {\n",
       "        vertical-align: top;\n",
       "    }\n",
       "\n",
       "    .dataframe thead th {\n",
       "        text-align: right;\n",
       "    }\n",
       "</style>\n",
       "<table border=\"1\" class=\"dataframe\">\n",
       "  <thead>\n",
       "    <tr style=\"text-align: right;\">\n",
       "      <th></th>\n",
       "      <th>Close</th>\n",
       "    </tr>\n",
       "    <tr>\n",
       "      <th>Date</th>\n",
       "      <th></th>\n",
       "    </tr>\n",
       "  </thead>\n",
       "  <tbody>\n",
       "    <tr>\n",
       "      <th>2013-10-08</th>\n",
       "      <td>155.8</td>\n",
       "    </tr>\n",
       "    <tr>\n",
       "      <th>2013-10-09</th>\n",
       "      <td>155.55</td>\n",
       "    </tr>\n",
       "    <tr>\n",
       "      <th>2013-10-10</th>\n",
       "      <td>160.15</td>\n",
       "    </tr>\n",
       "    <tr>\n",
       "      <th>2013-10-11</th>\n",
       "      <td>160.05</td>\n",
       "    </tr>\n",
       "    <tr>\n",
       "      <th>2013-10-14</th>\n",
       "      <td>159.45</td>\n",
       "    </tr>\n",
       "    <tr>\n",
       "      <th>...</th>\n",
       "      <td>...</td>\n",
       "    </tr>\n",
       "    <tr>\n",
       "      <th>2018-10-01</th>\n",
       "      <td>230.9</td>\n",
       "    </tr>\n",
       "    <tr>\n",
       "      <th>2018-10-03</th>\n",
       "      <td>227.6</td>\n",
       "    </tr>\n",
       "    <tr>\n",
       "      <th>2018-10-04</th>\n",
       "      <td>218.2</td>\n",
       "    </tr>\n",
       "    <tr>\n",
       "      <th>2018-10-05</th>\n",
       "      <td>209.2</td>\n",
       "    </tr>\n",
       "    <tr>\n",
       "      <th>2018-10-08</th>\n",
       "      <td>215.15</td>\n",
       "    </tr>\n",
       "  </tbody>\n",
       "</table>\n",
       "<p>1235 rows × 1 columns</p>\n",
       "</div>"
      ],
      "text/plain": [
       "             Close\n",
       "Date              \n",
       "2013-10-08   155.8\n",
       "2013-10-09  155.55\n",
       "2013-10-10  160.15\n",
       "2013-10-11  160.05\n",
       "2013-10-14  159.45\n",
       "...            ...\n",
       "2018-10-01   230.9\n",
       "2018-10-03   227.6\n",
       "2018-10-04   218.2\n",
       "2018-10-05   209.2\n",
       "2018-10-08  215.15\n",
       "\n",
       "[1235 rows x 1 columns]"
      ]
     },
     "execution_count": 13,
     "metadata": {},
     "output_type": "execute_result"
    }
   ],
   "source": [
    "new_dataset"
   ]
  },
  {
   "cell_type": "code",
   "execution_count": 14,
   "id": "a475bea9",
   "metadata": {},
   "outputs": [
    {
     "data": {
      "text/plain": [
       "DatetimeIndex(['2013-10-08', '2013-10-09', '2013-10-10', '2013-10-11',\n",
       "               '2013-10-14', '2013-10-15', '2013-10-17', '2013-10-18',\n",
       "               '2013-10-21', '2013-10-22',\n",
       "               ...\n",
       "               '2018-09-24', '2018-09-25', '2018-09-26', '2018-09-27',\n",
       "               '2018-09-28', '2018-10-01', '2018-10-03', '2018-10-04',\n",
       "               '2018-10-05', '2018-10-08'],\n",
       "              dtype='datetime64[ns]', name='Date', length=1235, freq=None)"
      ]
     },
     "execution_count": 14,
     "metadata": {},
     "output_type": "execute_result"
    }
   ],
   "source": [
    "new_dataset.index"
   ]
  },
  {
   "cell_type": "markdown",
   "id": "51e654b0",
   "metadata": {},
   "source": [
    "#  Create Train/Validation Split and Scale"
   ]
  },
  {
   "cell_type": "code",
   "execution_count": 15,
   "id": "ac224077",
   "metadata": {},
   "outputs": [
    {
     "data": {
      "text/plain": [
       "(1235, 8)"
      ]
     },
     "execution_count": 15,
     "metadata": {},
     "output_type": "execute_result"
    }
   ],
   "source": [
    "data.shape"
   ]
  },
  {
   "cell_type": "code",
   "execution_count": 16,
   "id": "0e2898d2",
   "metadata": {},
   "outputs": [],
   "source": [
    "# Prepare train and validation datasets\n",
    "final_dataset = new_dataset.values\n",
    "train_data = final_dataset[0:987, :]\n",
    "valid_data = final_dataset[987:, :]"
   ]
  },
  {
   "cell_type": "code",
   "execution_count": 17,
   "id": "16c4859a",
   "metadata": {},
   "outputs": [
    {
     "data": {
      "text/plain": [
       "array([[np.float64(155.8)],\n",
       "       [np.float64(155.55)],\n",
       "       [np.float64(160.15)],\n",
       "       ...,\n",
       "       [np.float64(218.2)],\n",
       "       [np.float64(209.2)],\n",
       "       [np.float64(215.15)]], dtype=object)"
      ]
     },
     "execution_count": 17,
     "metadata": {},
     "output_type": "execute_result"
    }
   ],
   "source": [
    "final_dataset"
   ]
  },
  {
   "cell_type": "markdown",
   "id": "0700cab1",
   "metadata": {},
   "source": [
    "# Normalize the data  and preprocessing "
   ]
  },
  {
   "cell_type": "code",
   "execution_count": 18,
   "id": "e1c95a3f",
   "metadata": {},
   "outputs": [],
   "source": [
    "from sklearn.preprocessing import MinMaxScaler\n",
    "from keras.models import Sequential\n",
    "from keras.layers import LSTM, Dense"
   ]
  },
  {
   "cell_type": "code",
   "execution_count": 19,
   "id": "a4b2b516",
   "metadata": {},
   "outputs": [
    {
     "data": {
      "text/plain": [
       "array([[0.23823398],\n",
       "       [0.2371134 ],\n",
       "       [0.25773196],\n",
       "       ...,\n",
       "       [0.51792918],\n",
       "       [0.47758853],\n",
       "       [0.50425818]])"
      ]
     },
     "execution_count": 19,
     "metadata": {},
     "output_type": "execute_result"
    }
   ],
   "source": [
    "# Normalize the data\n",
    "scaler = MinMaxScaler(feature_range=(0, 1))\n",
    "scaled_data = scaler.fit_transform(final_dataset)\n",
    "\n",
    "scaled_data"
   ]
  },
  {
   "cell_type": "markdown",
   "id": "60c5dfff",
   "metadata": {},
   "source": [
    "#  Create Training Data for LSTM"
   ]
  },
  {
   "cell_type": "code",
   "execution_count": 20,
   "id": "10ba5194",
   "metadata": {},
   "outputs": [],
   "source": [
    "# Create x_train and y_train\n",
    "\n",
    "\n",
    "x_train_data, y_train_data = [], []\n",
    "\n",
    "for i in range(60, len(train_data)):\n",
    "    x_train_data.append(scaled_data[i-60:i, 0])\n",
    "    y_train_data.append(scaled_data[i, 0])\n",
    "\n",
    "x_train_data, y_train_data = np.array(x_train_data), np.array(y_train_data)\n",
    "x_train_data = np.reshape(x_train_data, (x_train_data.shape[0], x_train_data.shape[1], 1))\n"
   ]
  },
  {
   "cell_type": "markdown",
   "id": "8c36d611",
   "metadata": {},
   "source": [
    "#  Build and Train LSTM Model"
   ]
  },
  {
   "cell_type": "code",
   "execution_count": 21,
   "id": "80ec37c2",
   "metadata": {},
   "outputs": [
    {
     "name": "stderr",
     "output_type": "stream",
     "text": [
      "C:\\Users\\aryan\\AppData\\Roaming\\Python\\Python312\\site-packages\\keras\\src\\layers\\rnn\\rnn.py:199: UserWarning: Do not pass an `input_shape`/`input_dim` argument to a layer. When using Sequential models, prefer using an `Input(shape)` object as the first layer in the model instead.\n",
      "  super().__init__(**kwargs)\n"
     ]
    }
   ],
   "source": [
    "# Build LSTM model\n",
    "lstm_model = Sequential()\n",
    "lstm_model.add(LSTM(units=50, return_sequences=True, input_shape=(x_train_data.shape[1], 1)))\n",
    "lstm_model.add(LSTM(units=50))\n",
    "lstm_model.add(Dense(1))\n",
    "\n"
   ]
  },
  {
   "cell_type": "markdown",
   "id": "15a422bc",
   "metadata": {},
   "source": [
    "\n",
    "# Compile and fit model"
   ]
  },
  {
   "cell_type": "code",
   "execution_count": 22,
   "id": "a46e1342",
   "metadata": {},
   "outputs": [
    {
     "name": "stdout",
     "output_type": "stream",
     "text": [
      "927/927 - 11s - 11ms/step - loss: 0.0012\n"
     ]
    },
    {
     "data": {
      "text/plain": [
       "<keras.src.callbacks.history.History at 0x29f6426d1c0>"
      ]
     },
     "execution_count": 22,
     "metadata": {},
     "output_type": "execute_result"
    }
   ],
   "source": [
    "\n",
    "# Compile and fit model\n",
    "lstm_model.compile(loss='mean_squared_error', optimizer='adam')\n",
    "lstm_model.fit(x_train_data, y_train_data, epochs=1, batch_size=1, verbose=2)"
   ]
  },
  {
   "cell_type": "markdown",
   "id": "d7c4d131",
   "metadata": {},
   "source": [
    "# Prepare Test Data and Predict"
   ]
  },
  {
   "cell_type": "code",
   "execution_count": 23,
   "id": "b10fbe05",
   "metadata": {},
   "outputs": [
    {
     "name": "stdout",
     "output_type": "stream",
     "text": [
      "             Close\n",
      "Date              \n",
      "2013-10-08   155.8\n",
      "2013-10-09  155.55\n",
      "2013-10-10  160.15\n",
      "2013-10-11  160.05\n",
      "2013-10-14  159.45\n",
      "...            ...\n",
      "2018-10-01   230.9\n",
      "2018-10-03   227.6\n",
      "2018-10-04   218.2\n",
      "2018-10-05   209.2\n",
      "2018-10-08  215.15\n",
      "\n",
      "[1235 rows x 1 columns]\n"
     ]
    }
   ],
   "source": [
    "print(new_dataset)\n"
   ]
  },
  {
   "cell_type": "code",
   "execution_count": 24,
   "id": "062a5e0c",
   "metadata": {},
   "outputs": [
    {
     "name": "stdout",
     "output_type": "stream",
     "text": [
      "[[np.float64(208.3)]\n",
      " [np.float64(208.45)]\n",
      " [np.float64(209.4)]\n",
      " [np.float64(212.0)]\n",
      " [np.float64(210.25)]\n",
      " [np.float64(209.6)]\n",
      " [np.float64(210.3)]\n",
      " [np.float64(206.8)]\n",
      " [np.float64(204.6)]\n",
      " [np.float64(203.1)]\n",
      " [np.float64(209.65)]\n",
      " [np.float64(205.3)]\n",
      " [np.float64(209.8)]\n",
      " [np.float64(220.5)]\n",
      " [np.float64(226.8)]\n",
      " [np.float64(226.95)]\n",
      " [np.float64(227.8)]\n",
      " [np.float64(226.35)]\n",
      " [np.float64(225.3)]\n",
      " [np.float64(234.7)]\n",
      " [np.float64(225.0)]\n",
      " [np.float64(224.5)]\n",
      " [np.float64(240.45)]\n",
      " [np.float64(236.15)]\n",
      " [np.float64(234.4)]\n",
      " [np.float64(246.7)]\n",
      " [np.float64(250.9)]\n",
      " [np.float64(251.95)]\n",
      " [np.float64(259.9)]\n",
      " [np.float64(274.9)]\n",
      " [np.float64(273.15)]\n",
      " [np.float64(274.05)]\n",
      " [np.float64(274.8)]\n",
      " [np.float64(278.7)]\n",
      " [np.float64(277.45)]\n",
      " [np.float64(287.75)]\n",
      " [np.float64(280.2)]\n",
      " [np.float64(287.1)]\n",
      " [np.float64(283.55)]\n",
      " [np.float64(279.05)]\n",
      " [np.float64(279.95)]\n",
      " [np.float64(274.95)]\n",
      " [np.float64(284.0)]\n",
      " [np.float64(288.45)]\n",
      " [np.float64(298.35)]\n",
      " [np.float64(287.8)]\n",
      " [np.float64(284.45)]\n",
      " [np.float64(284.3)]\n",
      " [np.float64(286.85)]\n",
      " [np.float64(290.85)]\n",
      " [np.float64(300.65)]\n",
      " [np.float64(300.85)]\n",
      " [np.float64(300.15)]\n",
      " [np.float64(302.75)]\n",
      " [np.float64(305.95)]\n",
      " [np.float64(305.55)]\n",
      " [np.float64(306.6)]\n",
      " [np.float64(316.4)]\n",
      " [np.float64(312.9)]\n",
      " [np.float64(311.15)]\n",
      " [np.float64(311.2)]\n",
      " [np.float64(312.25)]\n",
      " [np.float64(312.95)]\n",
      " [np.float64(317.6)]\n",
      " [np.float64(315.3)]\n",
      " [np.float64(314.1)]\n",
      " [np.float64(313.3)]\n",
      " [np.float64(325.75)]\n",
      " [np.float64(323.0)]\n",
      " [np.float64(316.4)]\n",
      " [np.float64(313.55)]\n",
      " [np.float64(305.45)]\n",
      " [np.float64(308.35)]\n",
      " [np.float64(308.85)]\n",
      " [np.float64(307.2)]\n",
      " [np.float64(304.25)]\n",
      " [np.float64(304.25)]\n",
      " [np.float64(301.8)]\n",
      " [np.float64(304.0)]\n",
      " [np.float64(290.65)]\n",
      " [np.float64(288.35)]\n",
      " [np.float64(274.85)]\n",
      " [np.float64(273.1)]\n",
      " [np.float64(266.7)]\n",
      " [np.float64(280.15)]\n",
      " [np.float64(280.45)]\n",
      " [np.float64(278.25)]\n",
      " [np.float64(285.1)]\n",
      " [np.float64(281.95)]\n",
      " [np.float64(279.05)]\n",
      " [np.float64(275.6)]\n",
      " [np.float64(267.95)]\n",
      " [np.float64(262.85)]\n",
      " [np.float64(266.6)]\n",
      " [np.float64(262.15)]\n",
      " [np.float64(270.7)]\n",
      " [np.float64(273.5)]\n",
      " [np.float64(275.0)]\n",
      " [np.float64(275.5)]\n",
      " [np.float64(274.85)]\n",
      " [np.float64(275.65)]\n",
      " [np.float64(274.15)]\n",
      " [np.float64(268.9)]\n",
      " [np.float64(273.4)]\n",
      " [np.float64(268.35)]\n",
      " [np.float64(276.05)]\n",
      " [np.float64(278.2)]\n",
      " [np.float64(278.5)]\n",
      " [np.float64(279.6)]\n",
      " [np.float64(272.4)]\n",
      " [np.float64(260.6)]\n",
      " [np.float64(262.05)]\n",
      " [np.float64(263.2)]\n",
      " [np.float64(258.85)]\n",
      " [np.float64(257.9)]\n",
      " [np.float64(262.2)]\n",
      " [np.float64(263.8)]\n",
      " [np.float64(258.75)]\n",
      " [np.float64(276.95)]\n",
      " [np.float64(274.8)]\n",
      " [np.float64(270.25)]\n",
      " [np.float64(273.0)]\n",
      " [np.float64(272.7)]\n",
      " [np.float64(277.8)]\n",
      " [np.float64(275.5)]\n",
      " [np.float64(273.85)]\n",
      " [np.float64(273.85)]\n",
      " [np.float64(275.5)]\n",
      " [np.float64(279.65)]\n",
      " [np.float64(280.95)]\n",
      " [np.float64(284.1)]\n",
      " [np.float64(286.2)]\n",
      " [np.float64(286.3)]\n",
      " [np.float64(283.6)]\n",
      " [np.float64(283.15)]\n",
      " [np.float64(289.1)]\n",
      " [np.float64(291.2)]\n",
      " [np.float64(292.1)]\n",
      " [np.float64(297.55)]\n",
      " [np.float64(292.75)]\n",
      " [np.float64(286.65)]\n",
      " [np.float64(287.8)]\n",
      " [np.float64(294.2)]\n",
      " [np.float64(289.7)]\n",
      " [np.float64(292.0)]\n",
      " [np.float64(285.25)]\n",
      " [np.float64(287.5)]\n",
      " [np.float64(255.9)]\n",
      " [np.float64(242.65)]\n",
      " [np.float64(241.1)]\n",
      " [np.float64(247.5)]\n",
      " [np.float64(244.7)]\n",
      " [np.float64(243.55)]\n",
      " [np.float64(247.15)]\n",
      " [np.float64(250.2)]\n",
      " [np.float64(254.5)]\n",
      " [np.float64(257.85)]\n",
      " [np.float64(260.65)]\n",
      " [np.float64(257.5)]\n",
      " [np.float64(264.5)]\n",
      " [np.float64(269.2)]\n",
      " [np.float64(263.25)]\n",
      " [np.float64(255.25)]\n",
      " [np.float64(263.75)]\n",
      " [np.float64(265.75)]\n",
      " [np.float64(267.1)]\n",
      " [np.float64(266.95)]\n",
      " [np.float64(263.7)]\n",
      " [np.float64(267.6)]\n",
      " [np.float64(269.6)]\n",
      " [np.float64(277.8)]\n",
      " [np.float64(272.15)]\n",
      " [np.float64(275.35)]\n",
      " [np.float64(267.05)]\n",
      " [np.float64(260.85)]\n",
      " [np.float64(258.2)]\n",
      " [np.float64(262.1)]\n",
      " [np.float64(264.5)]\n",
      " [np.float64(267.35)]\n",
      " [np.float64(265.6)]\n",
      " [np.float64(263.95)]\n",
      " [np.float64(269.35)]\n",
      " [np.float64(264.45)]\n",
      " [np.float64(281.0)]\n",
      " [np.float64(277.3)]\n",
      " [np.float64(271.25)]\n",
      " [np.float64(266.3)]\n",
      " [np.float64(275.25)]\n",
      " [np.float64(274.75)]\n",
      " [np.float64(269.8)]\n",
      " [np.float64(265.2)]\n",
      " [np.float64(258.9)]\n",
      " [np.float64(243.25)]\n",
      " [np.float64(247.9)]\n",
      " [np.float64(238.65)]\n",
      " [np.float64(233.1)]\n",
      " [np.float64(238.6)]\n",
      " [np.float64(243.3)]\n",
      " [np.float64(246.3)]\n",
      " [np.float64(236.9)]\n",
      " [np.float64(239.1)]\n",
      " [np.float64(242.25)]\n",
      " [np.float64(242.2)]\n",
      " [np.float64(246.9)]\n",
      " [np.float64(235.65)]\n",
      " [np.float64(235.45)]\n",
      " [np.float64(234.65)]\n",
      " [np.float64(239.5)]\n",
      " [np.float64(237.6)]\n",
      " [np.float64(236.35)]\n",
      " [np.float64(237.3)]\n",
      " [np.float64(233.55)]\n",
      " [np.float64(234.55)]\n",
      " [np.float64(237.55)]\n",
      " [np.float64(239.35)]\n",
      " [np.float64(243.0)]\n",
      " [np.float64(245.15)]\n",
      " [np.float64(240.55)]\n",
      " [np.float64(235.45)]\n",
      " [np.float64(231.0)]\n",
      " [np.float64(237.05)]\n",
      " [np.float64(233.35)]\n",
      " [np.float64(234.55)]\n",
      " [np.float64(236.0)]\n",
      " [np.float64(234.3)]\n",
      " [np.float64(236.7)]\n",
      " [np.float64(223.7)]\n",
      " [np.float64(222.4)]\n",
      " [np.float64(221.05)]\n",
      " [np.float64(222.95)]\n",
      " [np.float64(222.0)]\n",
      " [np.float64(216.0)]\n",
      " [np.float64(222.65)]\n",
      " [np.float64(233.95)]\n",
      " [np.float64(236.6)]\n",
      " [np.float64(235.05)]\n",
      " [np.float64(234.9)]\n",
      " [np.float64(234.6)]\n",
      " [np.float64(233.3)]\n",
      " [np.float64(236.1)]\n",
      " [np.float64(234.25)]\n",
      " [np.float64(233.25)]\n",
      " [np.float64(233.75)]\n",
      " [np.float64(230.9)]\n",
      " [np.float64(227.6)]\n",
      " [np.float64(218.2)]\n",
      " [np.float64(209.2)]\n",
      " [np.float64(215.15)]]\n"
     ]
    }
   ],
   "source": [
    "print(valid_data)"
   ]
  },
  {
   "cell_type": "code",
   "execution_count": 25,
   "id": "d3b527f4",
   "metadata": {},
   "outputs": [
    {
     "name": "stdout",
     "output_type": "stream",
     "text": [
      "\u001b[1m8/8\u001b[0m \u001b[32m━━━━━━━━━━━━━━━━━━━━\u001b[0m\u001b[37m\u001b[0m \u001b[1m0s\u001b[0m 31ms/step\n"
     ]
    }
   ],
   "source": [
    "# Prepare test data\n",
    "inputs_data = new_dataset[len(new_dataset) - len(valid_data) - 60:].values\n",
    "inputs_data = inputs_data.reshape(-1, 1)\n",
    "\n",
    "inputs_data = scaler.transform(inputs_data)\n",
    "\n",
    "X_test = []\n",
    "for i in range(60, inputs_data.shape[0]):\n",
    "    X_test.append(inputs_data[i-60:i, 0])\n",
    "\n",
    "X_test = np.array(X_test)\n",
    "X_test = np.reshape(X_test, (X_test.shape[0], X_test.shape[1], 1))\n",
    "\n",
    "\n",
    "\n",
    "# Predict and inverse scale\n",
    "\n",
    "\n",
    "closing_price = lstm_model.predict(X_test)\n",
    "closing_price = scaler.inverse_transform(closing_price)\n"
   ]
  },
  {
   "cell_type": "markdown",
   "id": "e879aaeb",
   "metadata": {},
   "source": [
    "# Save Model in .h5 file"
   ]
  },
  {
   "cell_type": "code",
   "execution_count": 26,
   "id": "29ea070d",
   "metadata": {},
   "outputs": [
    {
     "name": "stderr",
     "output_type": "stream",
     "text": [
      "WARNING:absl:You are saving your model as an HDF5 file via `model.save()` or `keras.saving.save_model(model)`. This file format is considered legacy. We recommend using instead the native Keras format, e.g. `model.save('my_model.keras')` or `keras.saving.save_model(model, 'my_model.keras')`. \n"
     ]
    }
   ],
   "source": [
    "# Save the model\n",
    "lstm_model.save(\"saved_lstm_model.h5\")\n"
   ]
  },
  {
   "cell_type": "markdown",
   "id": "27c647f7",
   "metadata": {},
   "source": [
    "# dump code using pickle"
   ]
  },
  {
   "cell_type": "code",
   "execution_count": 27,
   "id": "f12b41b3",
   "metadata": {},
   "outputs": [],
   "source": [
    "import pickle\n",
    "import pandas as pd\n",
    "\n",
    "# Save the scaler safely\n",
    "with open(\"scaler.pkl\", \"wb\") as f:\n",
    "    pickle.dump(scaler, f)\n",
    "\n",
    "# Save predictions to CSV\n",
    "valid_data = new_dataset[987:].copy()\n",
    "valid_data['Predictions'] = closing_price\n",
    "valid_data.to_csv(\"predictions.csv\", index=False)\n"
   ]
  },
  {
   "cell_type": "code",
   "execution_count": 28,
   "id": "eff9943e",
   "metadata": {},
   "outputs": [
    {
     "name": "stdout",
     "output_type": "stream",
     "text": [
      "(248, 2) (248, 1)\n"
     ]
    }
   ],
   "source": [
    "print(valid_data.shape, closing_price.shape)\n"
   ]
  },
  {
   "cell_type": "markdown",
   "id": "6d5184a0",
   "metadata": {},
   "source": [
    "# closing_price have prection vlaue"
   ]
  },
  {
   "cell_type": "code",
   "execution_count": 29,
   "id": "01819477",
   "metadata": {},
   "outputs": [
    {
     "name": "stdout",
     "output_type": "stream",
     "text": [
      "             Close  Predictions\n",
      "Date                           \n",
      "2017-10-09   208.3   199.340500\n",
      "2017-10-10  208.45   200.390625\n",
      "2017-10-11   209.4   201.188385\n",
      "2017-10-12   212.0   201.862793\n",
      "2017-10-13  210.25   202.723022\n"
     ]
    }
   ],
   "source": [
    "print(valid_data.head())\n"
   ]
  },
  {
   "cell_type": "code",
   "execution_count": null,
   "id": "417611f5",
   "metadata": {},
   "outputs": [],
   "source": []
  },
  {
   "cell_type": "code",
   "execution_count": null,
   "id": "d6dc419e",
   "metadata": {},
   "outputs": [],
   "source": []
  },
  {
   "cell_type": "code",
   "execution_count": null,
   "id": "c339d9a8",
   "metadata": {},
   "outputs": [],
   "source": []
  },
  {
   "cell_type": "code",
   "execution_count": null,
   "id": "7fef9921",
   "metadata": {},
   "outputs": [],
   "source": []
  },
  {
   "cell_type": "code",
   "execution_count": null,
   "id": "9cd71bb1",
   "metadata": {},
   "outputs": [],
   "source": []
  },
  {
   "cell_type": "code",
   "execution_count": null,
   "id": "3e33935b",
   "metadata": {},
   "outputs": [],
   "source": []
  }
 ],
 "metadata": {
  "kernelspec": {
   "display_name": "base",
   "language": "python",
   "name": "python3"
  },
  "language_info": {
   "codemirror_mode": {
    "name": "ipython",
    "version": 3
   },
   "file_extension": ".py",
   "mimetype": "text/x-python",
   "name": "python",
   "nbconvert_exporter": "python",
   "pygments_lexer": "ipython3",
   "version": "3.12.7"
  }
 },
 "nbformat": 4,
 "nbformat_minor": 5
}
